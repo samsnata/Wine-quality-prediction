{
  "nbformat": 4,
  "nbformat_minor": 0,
  "metadata": {
    "colab": {
      "provenance": []
    },
    "kernelspec": {
      "name": "python3",
      "display_name": "Python 3"
    },
    "language_info": {
      "name": "python"
    }
  },
  "cells": [
    {
      "cell_type": "code",
      "execution_count": 59,
      "metadata": {
        "colab": {
          "base_uri": "https://localhost:8080/"
        },
        "id": "NcscXU9osR0X",
        "outputId": "fca13228-63d7-4f5c-b2cf-5a810f682c36"
      },
      "outputs": [
        {
          "output_type": "stream",
          "name": "stdout",
          "text": [
            "Drive already mounted at /content/drive/; to attempt to forcibly remount, call drive.mount(\"/content/drive/\", force_remount=True).\n"
          ]
        }
      ],
      "source": [
        "from google.colab import drive, files\n",
        "drive.mount('/content/drive/')\n",
        "output_directory = \"/content/drive/My Drive/test.csv\"\n",
        "output_directory = \"/content/drive/My Drive/train.csv\""
      ]
    },
    {
      "cell_type": "code",
      "source": [
        "print(train_data.columns)"
      ],
      "metadata": {
        "colab": {
          "base_uri": "https://localhost:8080/"
        },
        "id": "_281d3qJHwFf",
        "outputId": "48b63bde-f10c-4f2b-f9a1-4e4146f5fab8"
      },
      "execution_count": 60,
      "outputs": [
        {
          "output_type": "stream",
          "name": "stdout",
          "text": [
            "Index(['id', 'fixed acidity', 'volatile acidity', 'citric acid',\n",
            "       'residual sugar', 'chlorides', 'free sulfur dioxide',\n",
            "       'total sulfur dioxide', 'density', 'pH', 'sulphates', 'alcohol',\n",
            "       'quality'],\n",
            "      dtype='object')\n"
          ]
        }
      ]
    },
    {
      "cell_type": "code",
      "source": [
        "print(train_data.head())"
      ],
      "metadata": {
        "colab": {
          "base_uri": "https://localhost:8080/"
        },
        "id": "IJvbdvoYIC07",
        "outputId": "919d0d21-18a1-4048-edf9-90b3944dbcc5"
      },
      "execution_count": 61,
      "outputs": [
        {
          "output_type": "stream",
          "name": "stdout",
          "text": [
            "   id  fixed acidity  volatile acidity  citric acid  residual sugar  \\\n",
            "0   0            7.7              0.63         0.00             2.4   \n",
            "1   1            6.8              0.48         0.32             2.5   \n",
            "2   2            6.4              0.59         0.01             2.8   \n",
            "3   3            7.0              0.74         0.24             2.1   \n",
            "4   4           11.5              0.32         0.32             2.8   \n",
            "\n",
            "   chlorides  free sulfur dioxide  total sulfur dioxide  density    pH  \\\n",
            "0      0.078                  4.0                  14.0  0.99650  3.31   \n",
            "1      0.086                 33.0                  58.0  0.99740  3.53   \n",
            "2      0.086                  3.0                  10.0  0.99716  3.45   \n",
            "3      0.072                 14.0                  28.0  0.99498  3.37   \n",
            "4      0.082                 14.0                  37.0  0.99560  3.60   \n",
            "\n",
            "   sulphates  alcohol  quality  \n",
            "0       0.53      9.2      5.0  \n",
            "1       0.49      9.7      6.0  \n",
            "2       0.49      9.5      6.0  \n",
            "3       0.52     10.4      5.0  \n",
            "4       0.65     12.3      6.0  \n"
          ]
        }
      ]
    },
    {
      "cell_type": "code",
      "source": [
        "# Load the data\n",
        "train_data = pd.read_csv(\"/content/drive/My Drive/train.csv\")\n",
        "print(\"Columns in train_data:\", train_data.columns)\n",
        "print(\"First few rows of train_data:\")\n",
        "print(train_data.head())\n",
        "\n",
        "# Ensure 'Id' and 'quality' are present\n",
        "if \"Id\" in train_data.columns and \"quality\" in train_data.columns:\n",
        "    X_train = train_data.drop(columns=[\"Id\", \"quality\"])\n",
        "else:\n",
        "    print(\"Error: 'Id' or 'quality' column not found in train_data.\")"
      ],
      "metadata": {
        "colab": {
          "base_uri": "https://localhost:8080/"
        },
        "id": "iQ1AntvBIWOe",
        "outputId": "1b4b4de2-01a7-4e7d-e2fa-d76c35af49ae"
      },
      "execution_count": 62,
      "outputs": [
        {
          "output_type": "stream",
          "name": "stdout",
          "text": [
            "Columns in train_data: Index(['id', 'fixed acidity', 'volatile acidity', 'citric acid',\n",
            "       'residual sugar', 'chlorides', 'free sulfur dioxide',\n",
            "       'total sulfur dioxide', 'density', 'pH', 'sulphates', 'alcohol',\n",
            "       'quality'],\n",
            "      dtype='object')\n",
            "First few rows of train_data:\n",
            "   id  fixed acidity  volatile acidity  citric acid  residual sugar  \\\n",
            "0   0            7.7              0.63         0.00             2.4   \n",
            "1   1            6.8              0.48         0.32             2.5   \n",
            "2   2            6.4              0.59         0.01             2.8   \n",
            "3   3            7.0              0.74         0.24             2.1   \n",
            "4   4           11.5              0.32         0.32             2.8   \n",
            "\n",
            "   chlorides  free sulfur dioxide  total sulfur dioxide  density    pH  \\\n",
            "0      0.078                  4.0                  14.0  0.99650  3.31   \n",
            "1      0.086                 33.0                  58.0  0.99740  3.53   \n",
            "2      0.086                  3.0                  10.0  0.99716  3.45   \n",
            "3      0.072                 14.0                  28.0  0.99498  3.37   \n",
            "4      0.082                 14.0                  37.0  0.99560  3.60   \n",
            "\n",
            "   sulphates  alcohol  quality  \n",
            "0       0.53      9.2      5.0  \n",
            "1       0.49      9.7      6.0  \n",
            "2       0.49      9.5      6.0  \n",
            "3       0.52     10.4      5.0  \n",
            "4       0.65     12.3      6.0  \n",
            "Error: 'Id' or 'quality' column not found in train_data.\n"
          ]
        }
      ]
    },
    {
      "cell_type": "code",
      "source": [
        "import pandas as pd\n",
        "import numpy as np\n",
        "from sklearn.linear_model import LinearRegression, Ridge, Lasso, ElasticNet\n",
        "from sklearn.tree import DecisionTreeRegressor\n",
        "from sklearn.ensemble import RandomForestRegressor, GradientBoostingRegressor\n",
        "from sklearn.svm import SVR\n",
        "from sklearn.model_selection import train_test_split\n",
        "from sklearn.metrics import cohen_kappa_score\n",
        "\n",
        "# Load the data\n",
        "train_data = pd.read_csv(\"/content/drive/My Drive/train.csv\")\n",
        "test_data = pd.read_csv(\"/content/drive/My Drive/test.csv\")\n",
        "\n",
        "# Display columns and a few rows for debugging\n",
        "print(\"Columns in train_data:\", train_data.columns)\n",
        "print(\"First few rows of train_data:\")\n",
        "print(train_data.head())\n",
        "\n",
        "# Split the training data into features and target\n",
        "X_train = train_data.drop(columns=[\"id\", \"quality\"])  # Use 'id' instead of 'Id'\n",
        "y_train = train_data[\"quality\"]\n",
        "\n",
        "# Split the training data into training and validation sets\n",
        "X_train, X_val, y_train, y_val = train_test_split(X_train, y_train, test_size=0.2, random_state=42)\n",
        "\n",
        "# Define a function to calculate the quadratic weighted kappa\n",
        "def qwk(actual, predicted):\n",
        "    actual = np.asarray(actual).astype(int)\n",
        "    predicted = np.asarray(predicted).astype(int)\n",
        "\n",
        "    # Create the confusion matrix\n",
        "    O = np.zeros((max(actual.max(), predicted.max()) + 1, max(actual.max(), predicted.max()) + 1))\n",
        "    for a, p in zip(actual, predicted):\n",
        "        O[a, p] += 1\n",
        "\n",
        "    # Calculate weights\n",
        "    N = O.sum()\n",
        "    w = np.zeros(O.shape)\n",
        "    for i in range(w.shape[0]):\n",
        "        for j in range(w.shape[1]):\n",
        "            w[i, j] = (i - j) ** 2 / (N - 1) ** 2\n",
        "\n",
        "    # Calculate expected outcomes\n",
        "    actual_hist = np.bincount(actual, minlength=w.shape[0])\n",
        "    predicted_hist = np.bincount(predicted, minlength=w.shape[1])\n",
        "    E = np.outer(actual_hist, predicted_hist) / N\n",
        "\n",
        "    # Calculate QWK\n",
        "    num = np.sum(w * O)\n",
        "    denom = np.sum(w * E)\n",
        "    kappa = 1 - (num / denom) if denom != 0 else 0\n",
        "    return kappa\n",
        "\n",
        "# Train and evaluate different regression models\n",
        "models = {\n",
        "    \"Linear Regression\": LinearRegression(),\n",
        "    \"Ridge Regression\": Ridge(),\n",
        "    \"Lasso Regression\": Lasso(),\n",
        "    \"Elastic Net\": ElasticNet(),\n",
        "    \"Decision Tree\": DecisionTreeRegressor(),\n",
        "    \"Random Forest\": RandomForestRegressor(),\n",
        "    \"Gradient Boosting\": GradientBoostingRegressor(),\n",
        "    \"Support Vector Machine\": SVR()\n",
        "}\n",
        "\n",
        "best_model = None\n",
        "best_score = -1  # Initialize to -1 since kappa can be negative\n",
        "\n",
        "for name, model in models.items():\n",
        "    model.fit(X_train, y_train)\n",
        "    y_pred = model.predict(X_val)\n",
        "\n",
        "    # If using regression, round predictions to nearest integer (quality)\n",
        "    y_pred = np.round(y_pred).astype(int)\n",
        "\n",
        "    score = qwk(y_val, y_pred)  # Evaluate against validation set\n",
        "\n",
        "    print(f\"{name} QWK: {score:.4f}\")\n",
        "\n",
        "    if score > best_score:\n",
        "        best_model = model\n",
        "        best_score = score\n",
        "\n",
        "# Use the best model to predict the quality for the test data\n",
        "X_test = test_data.drop(columns=[\"id\"])  # Drop the id column from test data\n",
        "y_test_pred = best_model.predict(X_test)\n",
        "\n",
        "# Round predictions for quality\n",
        "y_test_pred = np.round(y_test_pred).astype(int)\n",
        "\n",
        "# Create the submission file\n",
        "submission_data = pd.DataFrame({\"Id\": test_data[\"id\"], \"quality\": y_test_pred})  # Use 'id' from test_data\n",
        "submission_data.to_csv(\"submission.csv\", index=False)\n",
        "\n",
        "print(\"Submission file created successfully.\")"
      ],
      "metadata": {
        "colab": {
          "base_uri": "https://localhost:8080/"
        },
        "id": "oS58K4moI3iA",
        "outputId": "0ba4fbd1-9791-48df-d92a-7422f2543d29"
      },
      "execution_count": 63,
      "outputs": [
        {
          "output_type": "stream",
          "name": "stdout",
          "text": [
            "Columns in train_data: Index(['id', 'fixed acidity', 'volatile acidity', 'citric acid',\n",
            "       'residual sugar', 'chlorides', 'free sulfur dioxide',\n",
            "       'total sulfur dioxide', 'density', 'pH', 'sulphates', 'alcohol',\n",
            "       'quality'],\n",
            "      dtype='object')\n",
            "First few rows of train_data:\n",
            "   id  fixed acidity  volatile acidity  citric acid  residual sugar  \\\n",
            "0   0            7.7              0.63         0.00             2.4   \n",
            "1   1            6.8              0.48         0.32             2.5   \n",
            "2   2            6.4              0.59         0.01             2.8   \n",
            "3   3            7.0              0.74         0.24             2.1   \n",
            "4   4           11.5              0.32         0.32             2.8   \n",
            "\n",
            "   chlorides  free sulfur dioxide  total sulfur dioxide  density    pH  \\\n",
            "0      0.078                  4.0                  14.0  0.99650  3.31   \n",
            "1      0.086                 33.0                  58.0  0.99740  3.53   \n",
            "2      0.086                  3.0                  10.0  0.99716  3.45   \n",
            "3      0.072                 14.0                  28.0  0.99498  3.37   \n",
            "4      0.082                 14.0                  37.0  0.99560  3.60   \n",
            "\n",
            "   sulphates  alcohol  quality  \n",
            "0       0.53      9.2      5.0  \n",
            "1       0.49      9.7      6.0  \n",
            "2       0.49      9.5      6.0  \n",
            "3       0.52     10.4      5.0  \n",
            "4       0.65     12.3      6.0  \n",
            "Linear Regression QWK: 0.3065\n",
            "Ridge Regression QWK: 0.3078\n",
            "Lasso Regression QWK: 0.0077\n",
            "Elastic Net QWK: 0.0172\n",
            "Decision Tree QWK: 0.2048\n",
            "Random Forest QWK: 0.3083\n",
            "Gradient Boosting QWK: 0.3530\n",
            "Support Vector Machine QWK: 0.3567\n",
            "Submission file created successfully.\n"
          ]
        }
      ]
    },
    {
      "cell_type": "code",
      "source": [
        "from google.colab import files\n",
        "\n",
        "# Download the submission file\n",
        "files.download(\"submission.csv\")"
      ],
      "metadata": {
        "colab": {
          "base_uri": "https://localhost:8080/",
          "height": 17
        },
        "id": "2MnmWr26JUDj",
        "outputId": "667aa8f0-dffb-44e5-b20c-ef7af691b405"
      },
      "execution_count": 58,
      "outputs": [
        {
          "output_type": "display_data",
          "data": {
            "text/plain": [
              "<IPython.core.display.Javascript object>"
            ],
            "application/javascript": [
              "\n",
              "    async function download(id, filename, size) {\n",
              "      if (!google.colab.kernel.accessAllowed) {\n",
              "        return;\n",
              "      }\n",
              "      const div = document.createElement('div');\n",
              "      const label = document.createElement('label');\n",
              "      label.textContent = `Downloading \"${filename}\": `;\n",
              "      div.appendChild(label);\n",
              "      const progress = document.createElement('progress');\n",
              "      progress.max = size;\n",
              "      div.appendChild(progress);\n",
              "      document.body.appendChild(div);\n",
              "\n",
              "      const buffers = [];\n",
              "      let downloaded = 0;\n",
              "\n",
              "      const channel = await google.colab.kernel.comms.open(id);\n",
              "      // Send a message to notify the kernel that we're ready.\n",
              "      channel.send({})\n",
              "\n",
              "      for await (const message of channel.messages) {\n",
              "        // Send a message to notify the kernel that we're ready.\n",
              "        channel.send({})\n",
              "        if (message.buffers) {\n",
              "          for (const buffer of message.buffers) {\n",
              "            buffers.push(buffer);\n",
              "            downloaded += buffer.byteLength;\n",
              "            progress.value = downloaded;\n",
              "          }\n",
              "        }\n",
              "      }\n",
              "      const blob = new Blob(buffers, {type: 'application/binary'});\n",
              "      const a = document.createElement('a');\n",
              "      a.href = window.URL.createObjectURL(blob);\n",
              "      a.download = filename;\n",
              "      div.appendChild(a);\n",
              "      a.click();\n",
              "      div.remove();\n",
              "    }\n",
              "  "
            ]
          },
          "metadata": {}
        },
        {
          "output_type": "display_data",
          "data": {
            "text/plain": [
              "<IPython.core.display.Javascript object>"
            ],
            "application/javascript": [
              "download(\"download_18318dbd-4341-4ab2-b860-46d2361e7d47\", \"submission.csv\", 80011)"
            ]
          },
          "metadata": {}
        }
      ]
    }
  ]
}